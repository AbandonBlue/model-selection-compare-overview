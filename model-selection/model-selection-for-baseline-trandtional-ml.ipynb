{
 "cells": [
  {
   "cell_type": "markdown",
   "metadata": {},
   "source": [
    "## 模型選擇\n",
    "問題：\n",
    "- 不論是傳統機器學習還是深度學習都有許多的模型可以選擇，針對一個專案要進行時，開始建立模型除了已對產業知識相當了解，知道有哪一些模型會表現得好之外，我們還可能過什麼方式去選擇模型?\n",
    "- 將可能的選擇(當然要在成本、預算考量下)，全部跑過一次，直接比較表現嗎? 這可能會發生 **剛好** 模型表現不錯，在統計學，你可以說選到偏頗的樣本，錯誤的將其看成該模型的總體表現，這就可能會產生最開始就選擇一個表現不會太好的模型，從而導致專案效果不如預期。\n",
    "\n",
    "解決方法:\n",
    "- 融入統計學觀念、視覺化方法，將模型表現經過k-fold，產出多次表現，進而使用統計檢定/視覺化方法幫助觀察哪一個適合當作模型的baseline 選擇。\n",
    "    - note: 要注意的是，這樣拆解產出的效果，是沒有符合部分檢定的假設，但還是可以當做初步的參考! 這部分詳細討論可以參考 [medium](https://towardsdatascience.com/statistical-tests-for-comparing-classification-algorithms-ac1804e79bb7) \n",
    "     \n",
    "     "
   ]
  },
  {
   "cell_type": "code",
   "execution_count": 1,
   "metadata": {
    "ExecuteTime": {
     "end_time": "2021-12-01T08:39:45.907424Z",
     "start_time": "2021-12-01T08:39:36.786810Z"
    }
   },
   "outputs": [],
   "source": [
    "# model\n",
    "\n",
    "from sklearn import linear_model\n",
    "from sklearn import ensemble\n",
    "from sklearn import tree\n",
    "from sklearn import svm\n",
    "from sklearn import neighbors\n",
    "from sklearn.naive_bayes import GaussianNB\n",
    "from lightgbm import LGBMRegressor\n",
    "from xgboost import XGBRegressor\n",
    "\n",
    "# split data\n",
    "from sklearn import model_selection\n",
    "\n",
    "# data transform\n",
    "from sklearn import preprocessing\n",
    "\n",
    "# metrics\n",
    "from sklearn.metrics import mean_absolute_error, median_absolute_error\n",
    "\n",
    "# vis\n",
    "import matplotlib.pyplot as plt\n",
    "\n",
    "# time\n",
    "import time"
   ]
  },
  {
   "cell_type": "markdown",
   "metadata": {},
   "source": [
    "## 步驟\n",
    "1. 建立想測試模型的list\n",
    "2. [K-fold 或者其他切分方式](https://scikit-learn.org/stable/modules/generated/sklearn.model_selection.KFold.html)\n",
    "3. 訓練測試模型並預測結果\n",
    "    - [scoring 參考](https://scikit-learn.org/stable/modules/model_evaluation.html#the-scoring-parameter-defining-model-evaluation-rules)\n",
    "4. 統計檢定 / 視覺化 選擇出baseline模型"
   ]
  },
  {
   "cell_type": "code",
   "execution_count": 2,
   "metadata": {
    "ExecuteTime": {
     "end_time": "2021-12-01T08:39:46.001955Z",
     "start_time": "2021-12-01T08:39:45.912426Z"
    }
   },
   "outputs": [],
   "source": [
    "def create_model_list():\n",
    "    models = []\n",
    "    models.append(('Lasso', linear_model.Lasso()))\n",
    "    models.append(('Ridge', linear_model.Ridge()))\n",
    "    models.append(('EN', linear_model.ElasticNet()))\n",
    "    models.append(('RandomForest', ensemble.RandomForestRegressor()))\n",
    "    models.append(('KNR', neighbors.KNeighborsRegressor()))\n",
    "    models.append(('DT', tree.DecisionTreeRegressor()))\n",
    "    models.append(('ET', tree.ExtraTreeRegressor()))\n",
    "    models.append(('LGBM', LGBMRegressor()))\n",
    "    models.append(('XGB', XGBRegressor()))\n",
    "    models.append(('GBM', ensemble.GradientBoostingRegressor()))\n",
    "    models.append((\"SVR\", svm.LinearSVR()))\n",
    "    return models\n",
    "\n",
    "\n",
    "def train_models(X, y, models: list, n_splits: int, shuffle: bool, metric: str) -> dict:\n",
    "    results = []\n",
    "    \n",
    "    for m_name, model in models:\n",
    "        print(f'模型: {m_name}: 訓練中...')\n",
    "        t = time.time()\n",
    "        \n",
    "        cv = model_selection.KFold(n_splits=n_splits, shuffle=shuffle)\n",
    "        cv_results = model_selection.cross_val_score(estimator=model, X=X, y=y, scoring=metric, cv=cv, n_jobs=-1)\n",
    "        \n",
    "        time_cost = time.time()-t\n",
    "        results.append((m_name, cv_results, time_cost))\n",
    "        print(f\"模型表現 {metric}: \\n 平均: {cv_results.mean()}\\n 標準差: {cv_results.std()} \\n 花費時間: {time_cost}\")\n",
    "        print('-'*30)\n",
    "    return results\n",
    "\n",
    "\n",
    "def visualize_model_performance(results: list):\n",
    "    # Compare our models in a box plot\n",
    "    \n",
    "    fig = plt.figure(figsize=(12,7))\n",
    "    fig.suptitle('Algorithm Comparison')\n",
    "    ax = fig.add_subplot(111)\n",
    "    plt.boxplot([e[1] for e in results])\n",
    "    ax.set_xticklabels([e[0] for e in results])\n",
    "    plt.show()"
   ]
  },
  {
   "cell_type": "code",
   "execution_count": 3,
   "metadata": {
    "ExecuteTime": {
     "end_time": "2021-12-01T08:40:01.262578Z",
     "start_time": "2021-12-01T08:39:46.009955Z"
    }
   },
   "outputs": [
    {
     "name": "stdout",
     "output_type": "stream",
     "text": [
      "(506, 13) (506,)\n",
      "模型: Lasso: 訓練中...\n",
      "模型表現 neg_mean_squared_error: \n",
      " 平均: -40.605845627892634\n",
      " 標準差: 22.67078563363359 \n",
      " 花費時間: 7.342048406600952\n",
      "------------------------------\n",
      "模型: Ridge: 訓練中...\n",
      "模型表現 neg_mean_squared_error: \n",
      " 平均: -36.84237612073211\n",
      " 標準差: 23.078769874783887 \n",
      " 花費時間: 0.031999826431274414\n",
      "------------------------------\n",
      "模型: EN: 訓練中...\n",
      "模型表現 neg_mean_squared_error: \n",
      " 平均: -39.47156340421474\n",
      " 標準差: 19.841834571849947 \n",
      " 花費時間: 0.03100275993347168\n",
      "------------------------------\n",
      "模型: RandomForest: 訓練中...\n",
      "模型表現 neg_mean_squared_error: \n",
      " 平均: -21.87664058870121\n",
      " 標準差: 13.31760608811424 \n",
      " 花費時間: 1.3619987964630127\n",
      "------------------------------\n",
      "模型: KNR: 訓練中...\n",
      "模型表現 neg_mean_squared_error: \n",
      " 平均: -29.55021237041351\n",
      " 標準差: 10.895678740023865 \n",
      " 花費時間: 0.02404475212097168\n",
      "------------------------------\n",
      "模型: DT: 訓練中...\n",
      "模型表現 neg_mean_squared_error: \n",
      " 平均: -43.01542418947777\n",
      " 標準差: 18.874150941568306 \n",
      " 花費時間: 0.02599787712097168\n",
      "------------------------------\n",
      "模型: ET: 訓練中...\n",
      "模型表現 neg_mean_squared_error: \n",
      " 平均: -95.05152921762765\n",
      " 標準差: 80.53430816863393 \n",
      " 花費時間: 0.025002002716064453\n",
      "------------------------------\n",
      "模型: LGBM: 訓練中...\n",
      "模型表現 neg_mean_squared_error: \n",
      " 平均: -22.73779555955985\n",
      " 標準差: 11.650006019240672 \n",
      " 花費時間: 4.631570816040039\n",
      "------------------------------\n",
      "模型: XGB: 訓練中...\n",
      "模型表現 neg_mean_squared_error: \n",
      " 平均: -19.4673043210279\n",
      " 標準差: 11.554735814831607 \n",
      " 花費時間: 0.5539963245391846\n",
      "------------------------------\n",
      "模型: GBM: 訓練中...\n",
      "模型表現 neg_mean_squared_error: \n",
      " 平均: -18.55776423599091\n",
      " 標準差: 10.329544935353 \n",
      " 花費時間: 0.4779982566833496\n",
      "------------------------------\n",
      "模型: SVR: 訓練中...\n",
      "模型表現 neg_mean_squared_error: \n",
      " 平均: -35.152172974801076\n",
      " 標準差: 22.96928872871789 \n",
      " 花費時間: 0.02299976348876953\n",
      "------------------------------\n"
     ]
    },
    {
     "data": {
      "image/png": "[encoded data removed]",
      "text/plain": [
       "<Figure size 864x504 with 1 Axes>"
      ]
     },
     "metadata": {
      "needs_background": "light"
     },
     "output_type": "display_data"
    }
   ],
   "source": [
    "# 簡單使用內建資料集\n",
    "from sklearn.datasets import load_boston\n",
    "X, y = load_boston(return_X_y=True)\n",
    "print(X.shape, y.shape)\n",
    "\n",
    "# 標準化\n",
    "X = preprocessing.StandardScaler().fit_transform(X)\n",
    "\n",
    "# 步驟\n",
    "models = create_model_list()\n",
    "results = train_models(X, y, models, 5, False, 'neg_mean_squared_error')\n",
    "visualize_model_performance(results)"
   ]
  },
  {
   "cell_type": "markdown",
   "metadata": {},
   "source": [
    "## 結論\n",
    "- 根據視覺化結果tree-based模型表現得比較穩定，可以當作基礎模型去使用。\n",
    "- 若不考慮模型速度，也可以使用emsemble方法挑多個baseline去進一步增進最後的效果。"
   ]
  },
  {
   "cell_type": "code",
   "execution_count": null,
   "metadata": {},
   "outputs": [],
   "source": []
  }
 ],
 "metadata": {
  "kernelspec": {
   "display_name": "Python 3",
   "language": "python",
   "name": "python3"
  },
  "language_info": {
   "codemirror_mode": {
    "name": "ipython",
    "version": 3
   },
   "file_extension": ".py",
   "mimetype": "text/x-python",
   "name": "python",
   "nbconvert_exporter": "python",
   "pygments_lexer": "ipython3",
   "version": "3.7.3"
  }
 },
 "nbformat": 4,
 "nbformat_minor": 4
}
