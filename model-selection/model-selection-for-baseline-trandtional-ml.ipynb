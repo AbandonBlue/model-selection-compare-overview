{
 "cells": [
  {
   "cell_type": "markdown",
   "metadata": {},
   "source": [
    "## 模型選擇\n",
    "問題：\n",
    "- 不論是傳統機器學習還是深度學習都有許多的模型可以選擇，針對一個專案要進行時，開始建立模型除了已對產業知識相當了解，知道有哪一些模型會表現得好之外，我們還可能過什麼方式去選擇模型?\n",
    "- 將可能的選擇(當然要在成本、預算考量下)，全部跑過一次，直接比較表現嗎? 這可能會發生 **剛好** 模型表現不錯，在統計學，你可以說選到偏頗的樣本，錯誤的將其看成該模型的總體表現，這就可能會產生最開始就選擇一個表現不會太好的模型，從而導致專案效果不如預期。\n",
    "\n",
    "解決方法:\n",
    "- 融入統計學觀念、視覺化方法，將模型表現經過k-fold，產出多次表現，進而使用統計檢定/視覺化方法幫助觀察哪一個適合當作模型的baseline 選擇。\n",
    "    - note: 要注意的是，這樣拆解產出的效果，是沒有符合部分檢定的假設，但還是可以當做初步的參考! 這部分詳細討論可以參考 [medium](https://towardsdatascience.com/statistical-tests-for-comparing-classification-algorithms-ac1804e79bb7) \n",
    "     \n",
    "     "
   ]
  },
  {
   "cell_type": "code",
   "execution_count": 1,
   "metadata": {},
   "outputs": [],
   "source": [
    "# !pip install lightgbm\n",
    "# !pip install xgboost"
   ]
  },
  {
   "cell_type": "code",
   "execution_count": 2,
   "metadata": {
    "ExecuteTime": {
     "end_time": "2021-12-01T08:39:45.907424Z",
     "start_time": "2021-12-01T08:39:36.786810Z"
    }
   },
   "outputs": [],
   "source": [
    "# data\n",
    "import numpy as np\n",
    "import pandas as pd\n",
    "\n",
    "# model\n",
    "\n",
    "from sklearn import linear_model\n",
    "from sklearn import ensemble\n",
    "from sklearn import tree\n",
    "from sklearn import svm\n",
    "from sklearn import neighbors\n",
    "from sklearn.naive_bayes import GaussianNB\n",
    "from lightgbm import LGBMRegressor\n",
    "from xgboost import XGBRegressor\n",
    "\n",
    "# split data\n",
    "from sklearn import model_selection\n",
    "\n",
    "# data transform\n",
    "from sklearn import preprocessing\n",
    "\n",
    "# metrics\n",
    "from sklearn.metrics import mean_absolute_error, median_absolute_error\n",
    "from sklearn.model_selection import cross_val_score\n",
    "from statsmodels.stats.multicomp import pairwise_tukeyhsd\n",
    "from scipy.stats import f_oneway\n",
    "from scipy.stats import ttest_1samp, ttest_rel\n",
    "\n",
    "# vis\n",
    "import matplotlib.pyplot as plt\n",
    "\n",
    "# time\n",
    "import time\n",
    "\n",
    "import warnings\n",
    "warnings.filterwarnings(\"ignore\")"
   ]
  },
  {
   "cell_type": "markdown",
   "metadata": {},
   "source": [
    "## 步驟\n",
    "1. 建立想測試模型的list\n",
    "2. [K-fold 或者其他切分方式](https://scikit-learn.org/stable/modules/generated/sklearn.model_selection.KFold.html)\n",
    "3. 訓練測試模型並預測結果\n",
    "    - [scoring 參考](https://scikit-learn.org/stable/modules/model_evaluation.html#the-scoring-parameter-defining-model-evaluation-rules)\n",
    "4. 統計檢定 / 視覺化 選擇出baseline模型"
   ]
  },
  {
   "cell_type": "code",
   "execution_count": 3,
   "metadata": {
    "ExecuteTime": {
     "end_time": "2021-12-01T08:39:46.001955Z",
     "start_time": "2021-12-01T08:39:45.912426Z"
    }
   },
   "outputs": [],
   "source": [
    "def create_model_list():\n",
    "    models = []\n",
    "    models.append(('Lasso', linear_model.Lasso()))\n",
    "    models.append(('Ridge', linear_model.Ridge()))\n",
    "    models.append(('EN', linear_model.ElasticNet()))\n",
    "    models.append(('RandomForest', ensemble.RandomForestRegressor()))\n",
    "    models.append(('KNR', neighbors.KNeighborsRegressor()))\n",
    "    models.append(('DT', tree.DecisionTreeRegressor()))\n",
    "    models.append(('ET', tree.ExtraTreeRegressor()))\n",
    "    models.append(('LGBM', LGBMRegressor()))\n",
    "    models.append(('XGB', XGBRegressor()))\n",
    "    models.append(('GBM', ensemble.GradientBoostingRegressor()))\n",
    "    models.append((\"SVR\", svm.LinearSVR()))\n",
    "    return models\n",
    "\n",
    "\n",
    "def train_models(X, y, models: list, n_splits: int, shuffle: bool, metric: str, seed: int=222) -> dict:\n",
    "    results = []\n",
    "    seed = seed if shuffle else None\n",
    "    \n",
    "    for m_name, model in models:\n",
    "        print(f'模型: {m_name}: 訓練中...')\n",
    "        t = time.time()\n",
    "        \n",
    "        cv = model_selection.KFold(n_splits=n_splits, shuffle=shuffle, random_state=seed)\n",
    "        cv_results = model_selection.cross_val_score(estimator=model, X=X, y=y, scoring=metric, cv=cv, n_jobs=-1)\n",
    "        \n",
    "        time_cost = time.time()-t\n",
    "        results.append((m_name, cv_results, time_cost))\n",
    "        print(f\"模型表現 {metric}: \\n 平均: {cv_results.mean()}\\n 標準差: {cv_results.std()} \\n 花費時間: {time_cost}\")\n",
    "        print('-'*30)\n",
    "    return results\n",
    "\n",
    "\n",
    "def visualize_model_performance(results: list):\n",
    "    # Compare our models in a box plot\n",
    "    \n",
    "    fig = plt.figure(figsize=(12,7))\n",
    "    fig.suptitle('Algorithm Comparison')\n",
    "    ax = fig.add_subplot(111)\n",
    "    plt.boxplot([e[1] for e in results])\n",
    "    ax.set_xticklabels([e[0] for e in results])\n",
    "    plt.show()"
   ]
  },
  {
   "cell_type": "code",
   "execution_count": 4,
   "metadata": {
    "ExecuteTime": {
     "end_time": "2021-12-01T08:40:01.262578Z",
     "start_time": "2021-12-01T08:39:46.009955Z"
    }
   },
   "outputs": [
    {
     "name": "stdout",
     "output_type": "stream",
     "text": [
      "(506, 13) (506,)\n",
      "模型: Lasso: 訓練中...\n",
      "模型表現 neg_mean_squared_error: \n",
      " 平均: -40.605845627892634\n",
      " 標準差: 22.670785633633592 \n",
      " 花費時間: 12.35930323600769\n",
      "------------------------------\n",
      "模型: Ridge: 訓練中...\n",
      "模型表現 neg_mean_squared_error: \n",
      " 平均: -36.84237612073217\n",
      " 標準差: 23.078769874783895 \n",
      " 花費時間: 2.235053300857544\n",
      "------------------------------\n",
      "模型: EN: 訓練中...\n",
      "模型表現 neg_mean_squared_error: \n",
      " 平均: -39.47156340421474\n",
      " 標準差: 19.84183457184994 \n",
      " 花費時間: 1.699852705001831\n",
      "------------------------------\n",
      "模型: RandomForest: 訓練中...\n",
      "模型表現 neg_mean_squared_error: \n",
      " 平均: -22.112075007513088\n",
      " 標準差: 13.579350329637716 \n",
      " 花費時間: 0.46905040740966797\n",
      "------------------------------\n",
      "模型: KNR: 訓練中...\n",
      "模型表現 neg_mean_squared_error: \n",
      " 平均: -29.55021237041351\n",
      " 標準差: 10.895678740023865 \n",
      " 花費時間: 0.0890054702758789\n",
      "------------------------------\n",
      "模型: DT: 訓練中...\n",
      "模型表現 neg_mean_squared_error: \n",
      " 平均: -38.789512327703356\n",
      " 標準差: 18.685663598278833 \n",
      " 花費時間: 0.12195825576782227\n",
      "------------------------------\n",
      "模型: ET: 訓練中...\n",
      "模型表現 neg_mean_squared_error: \n",
      " 平均: -34.345131236653074\n",
      " 標準差: 15.155271366730235 \n",
      " 花費時間: 0.047002315521240234\n",
      "------------------------------\n",
      "模型: LGBM: 訓練中...\n",
      "模型表現 neg_mean_squared_error: \n",
      " 平均: -22.73779555955985\n",
      " 標準差: 11.650006019240672 \n",
      " 花費時間: 1.9440851211547852\n",
      "------------------------------\n",
      "模型: XGB: 訓練中...\n",
      "模型表現 neg_mean_squared_error: \n",
      " 平均: -19.467305284747095\n",
      " 標準差: 11.554735807540919 \n",
      " 花費時間: 1.6980397701263428\n",
      "------------------------------\n",
      "模型: GBM: 訓練中...\n",
      "模型表現 neg_mean_squared_error: \n",
      " 平均: -18.740554611715886\n",
      " 標準差: 10.23555663847063 \n",
      " 花費時間: 0.2140064239501953\n",
      "------------------------------\n",
      "模型: SVR: 訓練中...\n",
      "模型表現 neg_mean_squared_error: \n",
      " 平均: -35.17514835748669\n",
      " 標準差: 22.948953671939535 \n",
      " 花費時間: 0.011998414993286133\n",
      "------------------------------\n"
     ]
    },
    {
     "data": {
      "image/png": "[encoded data removed]",
      "text/plain": [
       "<Figure size 864x504 with 1 Axes>"
      ]
     },
     "metadata": {
      "needs_background": "light"
     },
     "output_type": "display_data"
    }
   ],
   "source": [
    "# 簡單使用內建資料集\n",
    "from sklearn.datasets import load_boston\n",
    "X, y = load_boston(return_X_y=True)\n",
    "print(X.shape, y.shape)\n",
    "\n",
    "# 標準化\n",
    "# 假定為訓練資料\n",
    "X = preprocessing.StandardScaler().fit_transform(X)\n",
    "\n",
    "# 步驟\n",
    "models = create_model_list()\n",
    "results = train_models(X, y, models, 5, False, 'neg_mean_squared_error')\n",
    "visualize_model_performance(results)"
   ]
  },
  {
   "cell_type": "markdown",
   "metadata": {},
   "source": [
    "機器學習問題檢定之間比較可參考 [機器學習模型真的準嗎？從虛無假設檢定來檢驗模型成效](https://aiec.nccu.edu.tw/ai-column/28)\n",
    "\n",
    "### 檢定比較\n",
    "1. 模型與baseline 可以用單一樣本t檢定\n",
    "2. 兩模型之間可以用相依樣本t檢定 or 獨立樣本t檢定\n",
    "3. 多模型互比可以用 ANOVA + scipy.stats.tukey_hsd"
   ]
  },
  {
   "cell_type": "code",
   "execution_count": 5,
   "metadata": {},
   "outputs": [
    {
     "name": "stdout",
     "output_type": "stream",
     "text": [
      "[ -8.58595677  -6.83832583  -9.8084139  -23.30192116 -14.42698581\n",
      " -22.46244808  -6.65083924 -89.29708857 -29.50884717 -17.66007498]\n",
      "Ttest_1sampResult(statistic=2.8458470233011477, pvalue=0.019218945572683867)\n"
     ]
    },
    {
     "data": {
      "text/plain": [
       "True"
      ]
     },
     "execution_count": 5,
     "metadata": {},
     "output_type": "execute_result"
    }
   ],
   "source": [
    "# 1. 模型與baseline 可以用獨立樣本t檢定\n",
    "\n",
    "def test_superior_baseline(X, y, model, baseline, alpha):\n",
    "    \"\"\"\n",
    "        交叉驗證模型是否優於 baseline\n",
    "    \"\"\"\n",
    "    model_metrics = cross_val_score(model, X, y, cv=10, scoring='neg_mean_squared_error')\n",
    "    print(model_metrics)\n",
    "    result = ttest_1samp(a=model_metrics, popmean=baseline)\n",
    "    \n",
    "    print(result)\n",
    "    return result.pvalue < alpha\n",
    "\n",
    "test_superior_baseline(X, y, XGBRegressor(), -45, 0.05)"
   ]
  },
  {
   "cell_type": "code",
   "execution_count": 6,
   "metadata": {},
   "outputs": [
    {
     "data": {
      "text/plain": [
       "Ttest_relResult(statistic=-2.783536007507163, pvalue=0.04963873816568362)"
      ]
     },
     "execution_count": 6,
     "metadata": {},
     "output_type": "execute_result"
    }
   ],
   "source": [
    "# 2. 兩模型之間可以用相依樣本t檢定 or 獨立樣本t檢定\n",
    "# 用lasso, XGBoost\n",
    "\n",
    "lasso_idx = 0\n",
    "xbg_idx = 8\n",
    "\n",
    "ttest_rel(results[lasso_idx][1], results[xbg_idx][1])"
   ]
  },
  {
   "cell_type": "code",
   "execution_count": 8,
   "metadata": {},
   "outputs": [
    {
     "name": "stdout",
     "output_type": "stream",
     "text": [
      "f-統計量: 0.9819013972472941, p-value: 0.47274716135684636\n",
      "       Multiple Comparison of Means - Tukey HSD, FWER=0.05       \n",
      "=================================================================\n",
      "   group1       group2    meandiff p-adj   lower    upper  reject\n",
      "-----------------------------------------------------------------\n",
      "          DT           EN  -0.6821    1.0 -41.7492 40.3851  False\n",
      "          DT           ET   4.4444    1.0 -36.6228 45.5115  False\n",
      "          DT          GBM   20.049 0.8486 -21.0182 61.1161  False\n",
      "          DT          KNR   9.2393 0.9994 -31.8279 50.3065  False\n",
      "          DT         LGBM  16.0517 0.9589 -25.0154 57.1189  False\n",
      "          DT        Lasso  -1.8163    1.0 -42.8835 39.2508  False\n",
      "          DT RandomForest  16.6774 0.9474 -24.3897 57.7446  False\n",
      "          DT        Ridge   1.9471    1.0   -39.12 43.0143  False\n",
      "          DT          SVR   3.6144    1.0 -37.4528 44.6815  False\n",
      "          DT          XGB  19.3222 0.8754  -21.745 60.3894  False\n",
      "          EN           ET   5.1264    1.0 -35.9407 46.1936  False\n",
      "          EN          GBM   20.731  0.821 -20.3362 61.7982  False\n",
      "          EN          KNR   9.9214  0.999 -31.1458 50.9885  False\n",
      "          EN         LGBM  16.7338 0.9463 -24.3334 57.8009  False\n",
      "          EN        Lasso  -1.1343    1.0 -42.2014 39.9329  False\n",
      "          EN RandomForest  17.3595 0.9326 -23.7077 58.4267  False\n",
      "          EN        Ridge   2.6292    1.0  -38.438 43.6964  False\n",
      "          EN          SVR   4.2964    1.0 -36.7708 45.3636  False\n",
      "          EN          XGB  20.0043 0.8504 -21.0629 61.0714  False\n",
      "          ET          GBM  15.6046 0.9659 -25.4626 56.6717  False\n",
      "          ET          KNR   4.7949    1.0 -36.2722 45.8621  False\n",
      "          ET         LGBM  11.6073 0.9962 -29.4598 52.6745  False\n",
      "          ET        Lasso  -6.2607    1.0 -47.3279 34.8065  False\n",
      "          ET RandomForest  12.2331 0.9942 -28.8341 53.3002  False\n",
      "          ET        Ridge  -2.4972    1.0 -43.5644 38.5699  False\n",
      "          ET          SVR    -0.83    1.0 -41.8972 40.2371  False\n",
      "          ET          XGB  14.8778 0.9754 -26.1893  55.945  False\n",
      "         GBM          KNR -10.8097 0.9979 -51.8768 30.2575  False\n",
      "         GBM         LGBM  -3.9972    1.0 -45.0644 37.0699  False\n",
      "         GBM        Lasso -21.8653   0.77 -62.9325 19.2019  False\n",
      "         GBM RandomForest  -3.3715    1.0 -44.4387 37.6956  False\n",
      "         GBM        Ridge -18.1018 0.9135  -59.169 22.9653  False\n",
      "         GBM          SVR -16.4346 0.9521 -57.5018 24.6326  False\n",
      "         GBM          XGB  -0.7268    1.0 -41.7939 40.3404  False\n",
      "         KNR         LGBM   6.8124    1.0 -34.2547 47.8796  False\n",
      "         KNR        Lasso -11.0556 0.9974 -52.1228 30.0115  False\n",
      "         KNR RandomForest   7.4381 0.9999  -33.629 48.5053  False\n",
      "         KNR        Ridge  -7.2922 0.9999 -48.3593  33.775  False\n",
      "         KNR          SVR  -5.6249    1.0 -46.6921 35.4422  False\n",
      "         KNR          XGB  10.0829 0.9988 -30.9843 51.1501  False\n",
      "        LGBM        Lasso -17.8681 0.9199 -58.9352 23.1991  False\n",
      "        LGBM RandomForest   0.6257    1.0 -40.4414 41.6929  False\n",
      "        LGBM        Ridge -14.1046 0.9831 -55.1717 26.9626  False\n",
      "        LGBM          SVR -12.4374 0.9934 -53.5045 28.6298  False\n",
      "        LGBM          XGB   3.2705    1.0 -37.7967 44.3377  False\n",
      "       Lasso RandomForest  18.4938 0.9022 -22.5734 59.5609  False\n",
      "       Lasso        Ridge   3.7635    1.0 -37.3037 44.8306  False\n",
      "       Lasso          SVR   5.4307    1.0 -35.6365 46.4979  False\n",
      "       Lasso          XGB  21.1385 0.8033 -19.9286 62.2057  False\n",
      "RandomForest        Ridge -14.7303  0.977 -55.7975 26.3369  False\n",
      "RandomForest          SVR -13.0631 0.9904 -54.1302 28.0041  False\n",
      "RandomForest          XGB   2.6448    1.0 -38.4224 43.7119  False\n",
      "       Ridge          SVR   1.6672    1.0 -39.3999 42.7344  False\n",
      "       Ridge          XGB  17.3751 0.9322 -23.6921 58.4422  False\n",
      "         SVR          XGB  15.7078 0.9644 -25.3593  56.775  False\n",
      "-----------------------------------------------------------------\n"
     ]
    }
   ],
   "source": [
    "# 3. 多模型互比可以用 ANOVA + scipy.stats.tukey_hsd\n",
    "\n",
    "\n",
    "fvalue, pvalue = f_oneway(*[e[1] for e in results])\n",
    "print(f\"f-統計量: {fvalue}, p-value: {pvalue}\")\n",
    "\n",
    "endog = np.concatenate([e[1] for e in results], axis=0)\n",
    "groups = np.concatenate([[e[0]]*len(e[1]) for e in results], axis=0)\n",
    "\n",
    "m_comp = pairwise_tukeyhsd(endog=endog, groups=groups, alpha=0.05)\n",
    "print(m_comp)"
   ]
  },
  {
   "cell_type": "code",
   "execution_count": 9,
   "metadata": {},
   "outputs": [
    {
     "data": {
      "text/plain": [
       "([0, 1, 2, 3, 4, 5, 6, 7, 8, 9, 10],\n",
       " [Text(0, 0, ''),\n",
       "  Text(0, 0, ''),\n",
       "  Text(0, 0, ''),\n",
       "  Text(0, 0, ''),\n",
       "  Text(0, 0, ''),\n",
       "  Text(0, 0, ''),\n",
       "  Text(0, 0, ''),\n",
       "  Text(0, 0, ''),\n",
       "  Text(0, 0, ''),\n",
       "  Text(0, 0, ''),\n",
       "  Text(0, 0, '')])"
      ]
     },
     "execution_count": 9,
     "metadata": {},
     "output_type": "execute_result"
    },
    {
     "data": {
      "image/png": "[encoded data removed]",
      "text/plain": [
       "<Figure size 432x288 with 1 Axes>"
      ]
     },
     "metadata": {
      "needs_background": "light"
     },
     "output_type": "display_data"
    }
   ],
   "source": [
    "## 訓練速度上比較, 當然還可以比較預測速度等等\n",
    "\n",
    "plt.bar([e[0] for e in results], [e[2] for e in results])\n",
    "plt.xticks(rotation=60)"
   ]
  },
  {
   "cell_type": "markdown",
   "metadata": {},
   "source": [
    "## 結論\n",
    "- 根據視覺化結果tree-based模型表現得比較穩定，可以當作基礎模型去使用。\n",
    "- 若不考慮模型速度，也可以使用emsemble方法挑多個baseline去進一步增進最後的效果。"
   ]
  }
 ],
 "metadata": {
  "kernelspec": {
   "display_name": "Python 3 (ipykernel)",
   "language": "python",
   "name": "python3"
  },
  "language_info": {
   "codemirror_mode": {
    "name": "ipython",
    "version": 3
   },
   "file_extension": ".py",
   "mimetype": "text/x-python",
   "name": "python",
   "nbconvert_exporter": "python",
   "pygments_lexer": "ipython3",
   "version": "3.9.12"
  }
 },
 "nbformat": 4,
 "nbformat_minor": 4
}
